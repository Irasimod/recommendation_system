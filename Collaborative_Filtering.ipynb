{
  "nbformat": 4,
  "nbformat_minor": 0,
  "metadata": {
    "colab": {
      "provenance": []
    },
    "kernelspec": {
      "name": "python3",
      "display_name": "Python 3"
    },
    "language_info": {
      "name": "python"
    }
  },
  "cells": [
    {
      "cell_type": "markdown",
      "source": [
        "### Setup"
      ],
      "metadata": {
        "id": "yZMnFK1R6amD"
      }
    },
    {
      "cell_type": "code",
      "execution_count": 73,
      "metadata": {
        "id": "An-pbNF4U6u4"
      },
      "outputs": [],
      "source": [
        "import pandas as pd\n",
        "from google.colab import drive\n",
        "from pyspark.sql import SparkSession\n",
        "from pyspark.ml.feature import StringIndexer\n",
        "from pyspark.ml.recommendation import ALS\n",
        "from pyspark.sql.functions import col, explode\n",
        "from pyspark.ml.evaluation import RegressionEvaluator\n",
        "from pyspark.sql.functions import udf\n",
        "from scipy.sparse import csr_matrix\n",
        "from sklearn.metrics.pairwise import cosine_similarity\n",
        "from scipy.sparse import csr_matrix\n",
        "from sklearn.preprocessing import LabelEncoder\n",
        "import numpy as np\n",
        "from sklearn.model_selection import train_test_split\n",
        "from math import sqrt\n",
        "from sklearn.metrics import mean_squared_error\n",
        "from sklearn.preprocessing import OrdinalEncoder"
      ]
    },
    {
      "cell_type": "code",
      "source": [
        "drive.mount('/content/drive')"
      ],
      "metadata": {
        "colab": {
          "base_uri": "https://localhost:8080/"
        },
        "id": "bKRPJ-e47Qnu",
        "outputId": "795fad18-cd0c-4de1-a02b-558e2e4fc304"
      },
      "execution_count": 74,
      "outputs": [
        {
          "output_type": "stream",
          "name": "stdout",
          "text": [
            "Drive already mounted at /content/drive; to attempt to forcibly remount, call drive.mount(\"/content/drive\", force_remount=True).\n"
          ]
        }
      ]
    },
    {
      "cell_type": "markdown",
      "source": [
        "### Load dataset"
      ],
      "metadata": {
        "id": "HYvyNzlS6dNj"
      }
    },
    {
      "cell_type": "code",
      "source": [
        "file_path = \"/content/drive/MyDrive/train_triplets.txt\"\n",
        "\n",
        "df = pd.read_csv(file_path, delimiter='\\t', header=None, names=['user_id', 'song_id', 'play_count'])\n",
        "\n",
        "print(df.head())"
      ],
      "metadata": {
        "colab": {
          "base_uri": "https://localhost:8080/"
        },
        "id": "g815U2966igA",
        "outputId": "06ebaf39-0f96-4929-a65c-3c10de54c509"
      },
      "execution_count": 75,
      "outputs": [
        {
          "output_type": "stream",
          "name": "stdout",
          "text": [
            "                                    user_id             song_id  play_count\n",
            "0  b80344d063b5ccb3212f76538f3d9e43d87dca9e  SOAKIMP12A8C130995           1\n",
            "1  b80344d063b5ccb3212f76538f3d9e43d87dca9e  SOAPDEY12A81C210A9           1\n",
            "2  b80344d063b5ccb3212f76538f3d9e43d87dca9e  SOBBMDR12A8C13253B           2\n",
            "3  b80344d063b5ccb3212f76538f3d9e43d87dca9e  SOBFNSP12AF72A0E22           1\n",
            "4  b80344d063b5ccb3212f76538f3d9e43d87dca9e  SOBFOVM12A58A7D494           1\n"
          ]
        }
      ]
    },
    {
      "cell_type": "code",
      "source": [
        "df = df.iloc[:500_000] # To make testing easier we only use part of th dataset. To use all data remove this line\n",
        "\n",
        "df.drop_duplicates(subset=['user_id', 'song_id'], inplace=True)\n",
        "\n",
        "user_counts = df['user_id'].value_counts()\n",
        "df = df[df['user_id'].isin(user_counts[user_counts >= 5].index)]\n",
        "\n",
        "song_counts = df['song_id'].value_counts()\n",
        "df = df[df['song_id'].isin(song_counts[song_counts >= 5].index)]\n",
        "\n",
        "print(f\"Number of rows: {df.shape[0]}\")"
      ],
      "metadata": {
        "id": "MTmayLs2gE2N",
        "colab": {
          "base_uri": "https://localhost:8080/"
        },
        "outputId": "6eb96a39-42e1-4ee1-a075-f5846263e46f"
      },
      "execution_count": 76,
      "outputs": [
        {
          "output_type": "stream",
          "name": "stdout",
          "text": [
            "Number of rows: 358395\n"
          ]
        }
      ]
    },
    {
      "cell_type": "code",
      "source": [
        "spark = SparkSession.builder.appName(\"CollaborativeFiltering\").getOrCreate()\n",
        "\n",
        "df_spark = spark.createDataFrame(df)\n",
        "\n",
        "user_indexer = StringIndexer(inputCol=\"user_id\", outputCol=\"user_index\")\n",
        "user_indexer_model = user_indexer.fit(df_spark)\n",
        "df_spark = user_indexer_model.transform(df_spark)\n",
        "\n",
        "song_indexer = StringIndexer(inputCol=\"song_id\", outputCol=\"song_index\")\n",
        "song_indexer_model = song_indexer.fit(df_spark)\n",
        "df_spark = song_indexer_model.transform(df_spark)\n",
        "\n",
        "df_spark.show(5)"
      ],
      "metadata": {
        "colab": {
          "base_uri": "https://localhost:8080/"
        },
        "id": "dvMu15nkgF4k",
        "outputId": "6ab46904-876b-46e3-81d0-1cbecb997fb0"
      },
      "execution_count": 77,
      "outputs": [
        {
          "output_type": "stream",
          "name": "stdout",
          "text": [
            "+--------------------+------------------+----------+----------+----------+\n",
            "|             user_id|           song_id|play_count|user_index|song_index|\n",
            "+--------------------+------------------+----------+----------+----------+\n",
            "|b80344d063b5ccb32...|SOAKIMP12A8C130995|         1|    1239.0|    2248.0|\n",
            "|b80344d063b5ccb32...|SOAPDEY12A81C210A9|         1|    1239.0|   13544.0|\n",
            "|b80344d063b5ccb32...|SOBBMDR12A8C13253B|         2|    1239.0|    4870.0|\n",
            "|b80344d063b5ccb32...|SOBFOVM12A58A7D494|         1|    1239.0|   18936.0|\n",
            "|b80344d063b5ccb32...|SOBSUJE12A6D4F8CF5|         2|    1239.0|   10420.0|\n",
            "+--------------------+------------------+----------+----------+----------+\n",
            "only showing top 5 rows\n",
            "\n"
          ]
        }
      ]
    },
    {
      "cell_type": "markdown",
      "source": [
        "### Recommendation with ALS"
      ],
      "metadata": {
        "id": "LLfuc5Nz71rR"
      }
    },
    {
      "cell_type": "code",
      "source": [
        "df_spark = df_spark.selectExpr(\"user_index as user\", \"song_index as item\", \"play_count as rating\")\n",
        "\n",
        "# Train ALS model\n",
        "als = ALS(userCol=\"user\", itemCol=\"item\", ratingCol=\"rating\", nonnegative=True, rank=10, maxIter=10, regParam=0.1)\n",
        "model = als.fit(df_spark)"
      ],
      "metadata": {
        "id": "r4DCop0-heuq"
      },
      "execution_count": 78,
      "outputs": []
    },
    {
      "cell_type": "markdown",
      "source": [
        "### Test ALS recommendation"
      ],
      "metadata": {
        "id": "xxNxaGbYiY-q"
      }
    },
    {
      "cell_type": "code",
      "source": [
        "(training_data, test_data) = df_spark.randomSplit([0.8, 0.2])\n",
        "\n",
        "model = als.fit(training_data)\n",
        "\n",
        "predictions = model.transform(test_data)\n",
        "\n",
        "predictions = predictions.na.drop()\n",
        "\n",
        "evaluator = RegressionEvaluator(metricName=\"rmse\", labelCol=\"rating\", predictionCol=\"prediction\")\n",
        "rmse = evaluator.evaluate(predictions)\n",
        "print(f\"Root Mean Squared Error (RMSE): {rmse}\")"
      ],
      "metadata": {
        "colab": {
          "base_uri": "https://localhost:8080/"
        },
        "id": "BYkmlY-GoAc5",
        "outputId": "4bacaca1-b3ff-42e3-f627-fb6cbb7a4d09"
      },
      "execution_count": 79,
      "outputs": [
        {
          "output_type": "stream",
          "name": "stdout",
          "text": [
            "Root Mean Squared Error (RMSE): 6.505492574894155\n"
          ]
        }
      ]
    },
    {
      "cell_type": "markdown",
      "source": [
        "### Recommend with User based Utility Matrix"
      ],
      "metadata": {
        "id": "wtJw04zWCMr8"
      }
    },
    {
      "cell_type": "code",
      "source": [
        "train_df, test_df = train_test_split(df, test_size=0.2, random_state=42)\n",
        "\n",
        "user_encoder = LabelEncoder()\n",
        "train_df['user_id_encoded'] = user_encoder.fit_transform(train_df['user_id'])\n",
        "test_df['user_id_encoded'] = user_encoder.transform(test_df['user_id'])\n",
        "\n",
        "song_encoder = LabelEncoder()\n",
        "train_df['song_id_encoded'] = song_encoder.fit_transform(train_df['song_id'])\n",
        "test_df['song_id_encoded'] = song_encoder.transform(test_df['song_id'])\n",
        "\n",
        "utility_matrix = csr_matrix(\n",
        "    (train_df['play_count'], (train_df['user_id_encoded'], train_df['song_id_encoded']))\n",
        ")\n",
        "\n",
        "user_similarity = cosine_similarity(utility_matrix)"
      ],
      "metadata": {
        "id": "VgzQWRHwBxGN"
      },
      "execution_count": 68,
      "outputs": []
    },
    {
      "cell_type": "markdown",
      "source": [
        "### Test User based Utility-Matrix recommendations"
      ],
      "metadata": {
        "id": "KXoPZgQWlF_s"
      }
    },
    {
      "cell_type": "code",
      "source": [
        "def predict_ratings_for_test_set(test_df, utility_matrix, similarity_matrix, k=2):\n",
        "    actual_ratings = []\n",
        "    predicted_ratings = []\n",
        "\n",
        "    for _, row in test_df.iterrows():\n",
        "        user_id = row['user_id_encoded']\n",
        "        item_id = row['song_id_encoded']\n",
        "        actual_rating = row['play_count']\n",
        "\n",
        "        # Predict the rating\n",
        "        user_ratings = utility_matrix[user_id].toarray().flatten()\n",
        "        user_similarities = similarity_matrix[user_id]\n",
        "        similar_users = np.argsort(-user_similarities)[1:k+1]\n",
        "\n",
        "        numerator = 0\n",
        "        denominator = 0\n",
        "        for similar_user in similar_users:\n",
        "            similar_user_ratings = utility_matrix[similar_user, item_id]\n",
        "            if similar_user_ratings > 0:\n",
        "                numerator += user_similarities[similar_user] * similar_user_ratings\n",
        "                denominator += abs(user_similarities[similar_user])\n",
        "\n",
        "        predicted_rating = numerator / denominator if denominator > 0 else 0\n",
        "\n",
        "        actual_ratings.append(actual_rating)\n",
        "        predicted_ratings.append(predicted_rating)\n",
        "\n",
        "    return actual_ratings, predicted_ratings\n",
        "\n",
        "# Get actual and predicted ratings for the test set\n",
        "actual_ratings, predicted_ratings = predict_ratings_for_test_set(\n",
        "    test_df, utility_matrix, user_similarity, k=2\n",
        ")\n",
        "\n",
        "# Calculate RMSE\n",
        "rmse = sqrt(mean_squared_error(actual_ratings, predicted_ratings))\n",
        "print(f\"\\nRoot Mean Squared Error (RMSE): {rmse}\")"
      ],
      "metadata": {
        "colab": {
          "base_uri": "https://localhost:8080/"
        },
        "id": "rbsbExNQlDX8",
        "outputId": "362f2a4d-07c2-40cf-cb23-de23d5f1d534"
      },
      "execution_count": 69,
      "outputs": [
        {
          "output_type": "stream",
          "name": "stdout",
          "text": [
            "\n",
            "Root Mean Squared Error (RMSE): 6.941470333324735\n"
          ]
        }
      ]
    },
    {
      "cell_type": "markdown",
      "source": [
        "### Recommend with Item based Utility Matrix"
      ],
      "metadata": {
        "id": "sZIv4mFfosZA"
      }
    },
    {
      "cell_type": "code",
      "source": [
        "train_df, test_df = train_test_split(df, test_size=0.2, random_state=42)\n",
        "\n",
        "user_encoder = LabelEncoder()\n",
        "train_df['user_id_encoded'] = user_encoder.fit_transform(train_df['user_id'])\n",
        "test_df['user_id_encoded'] = user_encoder.transform(test_df['user_id'])\n",
        "\n",
        "song_encoder = LabelEncoder()\n",
        "train_df['song_id_encoded'] = song_encoder.fit_transform(train_df['song_id'])\n",
        "test_df['song_id_encoded'] = song_encoder.transform(test_df['song_id'])\n",
        "\n",
        "utility_matrix = csr_matrix(\n",
        "    (train_df['play_count'], (train_df['user_id_encoded'], train_df['song_id_encoded']))\n",
        ")\n",
        "\n",
        "utility_matrix_item_item = utility_matrix.T\n",
        "\n",
        "item_similarity = cosine_similarity(utility_matrix_item_item)"
      ],
      "metadata": {
        "id": "qTFhWjylow_-"
      },
      "execution_count": 71,
      "outputs": []
    },
    {
      "cell_type": "markdown",
      "source": [
        "### Test Item based Utility-Matrix recommendations"
      ],
      "metadata": {
        "id": "7984l2A3p6LH"
      }
    },
    {
      "cell_type": "code",
      "source": [
        "def predict_ratings_for_test_set_item_item(test_df, utility_matrix, similarity_matrix, k=2):\n",
        "    actual_ratings = []\n",
        "    predicted_ratings = []\n",
        "\n",
        "    for _, row in test_df.iterrows():\n",
        "        user_id = row['user_id_encoded']\n",
        "        item_id = row['song_id_encoded']\n",
        "        actual_rating = row['play_count']\n",
        "\n",
        "        user_ratings = utility_matrix[:, user_id].toarray().flatten()\n",
        "        item_similarities = similarity_matrix[item_id]\n",
        "        similar_items = np.argsort(-item_similarities)[1:k+1]\n",
        "\n",
        "        numerator = 0\n",
        "        denominator = 0\n",
        "        for similar_item in similar_items:\n",
        "            similar_item_rating = utility_matrix[similar_item, user_id]\n",
        "            if similar_item_rating > 0:\n",
        "                numerator += item_similarities[similar_item] * similar_item_rating\n",
        "                denominator += abs(item_similarities[similar_item])\n",
        "\n",
        "        predicted_rating = numerator / denominator if denominator > 0 else 0\n",
        "\n",
        "        actual_ratings.append(actual_rating)\n",
        "        predicted_ratings.append(predicted_rating)\n",
        "\n",
        "    return actual_ratings, predicted_ratings\n",
        "\n",
        "\n",
        "utility_matrix_item_item = utility_matrix.T\n",
        "\n",
        "actual_ratings, predicted_ratings = predict_ratings_for_test_set_item_item(\n",
        "    test_df, utility_matrix_item_item, item_similarity, k=2\n",
        ")\n",
        "\n",
        "rmse = sqrt(mean_squared_error(actual_ratings, predicted_ratings))\n",
        "print(f\"\\nRoot Mean Squared Error (RMSE): {rmse}\")"
      ],
      "metadata": {
        "colab": {
          "base_uri": "https://localhost:8080/"
        },
        "id": "vcxdAzwKp73V",
        "outputId": "452aa2e0-3632-4b81-8c88-308d9ef3bf4e"
      },
      "execution_count": 72,
      "outputs": [
        {
          "output_type": "stream",
          "name": "stdout",
          "text": [
            "\n",
            "Root Mean Squared Error (RMSE): 6.8412624505020565\n"
          ]
        }
      ]
    }
  ]
}